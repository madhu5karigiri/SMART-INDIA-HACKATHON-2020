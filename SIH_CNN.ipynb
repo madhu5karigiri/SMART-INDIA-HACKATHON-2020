{
  "nbformat": 4,
  "nbformat_minor": 0,
  "metadata": {
    "colab": {
      "name": "SIH - CNN",
      "provenance": [],
      "collapsed_sections": []
    },
    "kernelspec": {
      "name": "python3",
      "display_name": "Python 3"
    },
    "accelerator": "GPU"
  },
  "cells": [
    {
      "cell_type": "code",
      "metadata": {
        "id": "f4rAz3gw6xJq"
      },
      "source": [
        ""
      ],
      "execution_count": null,
      "outputs": []
    },
    {
      "cell_type": "code",
      "metadata": {
        "id": "x59jWrdV8nlh"
      },
      "source": [
        "!pip install tensorflowjs"
      ],
      "execution_count": null,
      "outputs": []
    },
    {
      "cell_type": "code",
      "metadata": {
        "id": "Lz8Ai1kZ8F4H",
        "colab": {
          "base_uri": "https://localhost:8080/",
          "height": 121
        },
        "outputId": "b5e6a178-e287-494b-d116-aa300b1232ec"
      },
      "source": [
        "from google.colab import drive\n",
        "drive.mount('/gdrive')"
      ],
      "execution_count": null,
      "outputs": [
        {
          "output_type": "stream",
          "text": [
            "Go to this URL in a browser: https://accounts.google.com/o/oauth2/auth?client_id=947318989803-6bn6qk8qdgf4n4g3pfee6491hc0brc4i.apps.googleusercontent.com&redirect_uri=urn%3aietf%3awg%3aoauth%3a2.0%3aoob&response_type=code&scope=email%20https%3a%2f%2fwww.googleapis.com%2fauth%2fdocs.test%20https%3a%2f%2fwww.googleapis.com%2fauth%2fdrive%20https%3a%2f%2fwww.googleapis.com%2fauth%2fdrive.photos.readonly%20https%3a%2f%2fwww.googleapis.com%2fauth%2fpeopleapi.readonly\n",
            "\n",
            "Enter your authorization code:\n",
            "··········\n",
            "Mounted at /gdrive\n"
          ],
          "name": "stdout"
        }
      ]
    },
    {
      "cell_type": "code",
      "metadata": {
        "id": "-taDHAmOhSbA",
        "colab": {
          "base_uri": "https://localhost:8080/",
          "height": 34
        },
        "outputId": "096e1459-b675-4918-dc2d-862a3e681cd9"
      },
      "source": [
        "import cv2\n",
        "import pathlib\n",
        "import os\n",
        "import numpy as np\n",
        "import tensorflow as tf\n",
        "import keras\n",
        "from keras.utils import to_categorical\n",
        "import matplotlib.pyplot as plt\n",
        "\n",
        "print('\\u2022 Using TensorFlow Version:', tf.__version__)"
      ],
      "execution_count": null,
      "outputs": [
        {
          "output_type": "stream",
          "text": [
            "• Using TensorFlow Version: 2.3.0\n"
          ],
          "name": "stdout"
        }
      ]
    },
    {
      "cell_type": "code",
      "metadata": {
        "id": "_tQXnWJO8sle"
      },
      "source": [
        "Train = '/gdrive/My Drive/SIH_2020/SIH DATASETS/25 crops dataset'\n",
        "Test = '/gdrive/My Drive/SIH_2020/SIH DATASETS/Test'"
      ],
      "execution_count": null,
      "outputs": []
    },
    {
      "cell_type": "code",
      "metadata": {
        "id": "o2LJFlYbApL1",
        "colab": {
          "base_uri": "https://localhost:8080/",
          "height": 50
        },
        "outputId": "197034bd-9f57-474b-a7c7-65f22ff5646a"
      },
      "source": [
        "train_labels=[]\n",
        "for i in os.listdir(Train):  \n",
        "    if (i.split('_')[0]=='apple'):\n",
        "        train_labels.append(0)\n",
        "    elif (i.split('_')[0]=='banana'):\n",
        "        train_labels.append(1)\n",
        "    elif (i.split('_')[0]=='beetroot'):\n",
        "        train_labels.append(2)\n",
        "    elif (i.split('_')[0])=='cauliflower':\n",
        "        train_labels.append(3)\n",
        "    elif (i.split('_')[0])=='coconut':\n",
        "        train_labels.append(4)\n",
        "    elif (i.split('_')[0])=='coffee':\n",
        "        train_labels.append(5)\n",
        "    elif (i.split('_')[0])=='cotton':\n",
        "        train_labels.append(6)\n",
        "    elif (i.split('_')[0])=='cucumber':\n",
        "        train_labels.append(7)\n",
        "    elif (i.split('_')[0])=='guava':\n",
        "        train_labels.append(8)\n",
        "    elif (i.split('_')[0]=='jute'):\n",
        "        train_labels.append(9)\n",
        "    elif (i.split('_')[0]=='lemon'):\n",
        "        train_labels.append(10)\n",
        "    elif (i.split('_')[0])=='maize':\n",
        "        train_labels.append(11)\n",
        "    elif (i.split('_')[0])=='millet':\n",
        "        train_labels.append(12)\n",
        "    elif (i.split('_')[0])=='onion':\n",
        "        train_labels.append(13)\n",
        "    elif (i.split('_')[0])=='orange':\n",
        "        train_labels.append(14)\n",
        "    elif (i.split('_')[0])=='paddy':\n",
        "        train_labels.append(15)\n",
        "    elif (i.split('_')[0])=='peas':\n",
        "        train_labels.append(16)\n",
        "    elif (i.split('_')[0]=='pineapple'):\n",
        "        train_labels.append(17)\n",
        "    elif (i.split('_')[0]=='potato'):\n",
        "        train_labels.append(18)\n",
        "    elif (i.split('_')[0])=='red':\n",
        "        train_labels.append(19)\n",
        "    elif (i.split('_')[0])=='sugarcane':\n",
        "        train_labels.append(20)\n",
        "    elif (i.split('_')[0])=='sunflower':\n",
        "        train_labels.append(21)\n",
        "    elif (i.split('_')[0])=='tomato':\n",
        "        train_labels.append(22)\n",
        "    elif (i.split('_')[0])=='watermelon':\n",
        "        train_labels.append(23)\n",
        "    elif (i.split('_')[0])=='wheat':\n",
        "        train_labels.append(24)\n",
        "\n",
        "test_labels=[]\n",
        "for i in os.listdir(Test):  \n",
        "    if (i.split('_')[0]=='apple'):\n",
        "        test_labels.append(0)\n",
        "    elif (i.split('_')[0]=='banana'):\n",
        "        test_labels.append(1)\n",
        "    elif (i.split('_')[0]=='beetroot'):\n",
        "        test_labels.append(2)\n",
        "    elif (i.split('_')[0])=='cauliflower':\n",
        "        test_labels.append(3)\n",
        "    elif (i.split('_')[0])=='coconut':\n",
        "        test_labels.append(4)\n",
        "    elif (i.split('_')[0])=='coffee':\n",
        "        test_labels.append(5)\n",
        "    elif (i.split('_')[0])=='cotton':\n",
        "        test_labels.append(6)\n",
        "    elif (i.split('_')[0])=='cucumber':\n",
        "        test_labels.append(7)\n",
        "    elif (i.split('_')[0])=='guava':\n",
        "        test_labels.append(8)\n",
        "    elif (i.split('_')[0]=='jute'):\n",
        "        test_labels.append(9)\n",
        "    elif (i.split('_')[0]=='lemon'):\n",
        "        test_labels.append(10)\n",
        "    elif (i.split('_')[0])=='maize':\n",
        "        test_labels.append(11)\n",
        "    elif (i.split('_')[0])=='millet':\n",
        "        test_labels.append(12)\n",
        "    elif (i.split('_')[0])=='onion':\n",
        "        test_labels.append(13)\n",
        "    elif (i.split('_')[0])=='orange':\n",
        "        test_labels.append(14)\n",
        "    elif (i.split('_')[0])=='paddy':\n",
        "        test_labels.append(15)\n",
        "    elif (i.split('_')[0])=='peas':\n",
        "        test_labels.append(16)\n",
        "    elif (i.split('_')[0]=='pineapple'):\n",
        "        test_labels.append(17)\n",
        "    elif (i.split('_')[0]=='potato'):\n",
        "        test_labels.append(18)\n",
        "    elif (i.split('_')[0])=='red':\n",
        "        test_labels.append(19)\n",
        "    elif (i.split('_')[0])=='sugarcane':\n",
        "        test_labels.append(20)\n",
        "    elif (i.split('_')[0])=='sunflower':\n",
        "        test_labels.append(21)\n",
        "    elif (i.split('_')[0])=='tomato':\n",
        "        test_labels.append(22)\n",
        "    elif (i.split('_')[0])=='watermelon':\n",
        "        test_labels.append(23)\n",
        "    elif (i.split('_')[0])=='wheat':\n",
        "        test_labels.append(24)\n",
        "\n",
        "print(len(train_labels))\n",
        "print(len(test_labels))"
      ],
      "execution_count": null,
      "outputs": [
        {
          "output_type": "stream",
          "text": [
            "9520\n",
            "1690\n"
          ],
          "name": "stdout"
        }
      ]
    },
    {
      "cell_type": "code",
      "metadata": {
        "id": "0EpMwx3PBUFv",
        "colab": {
          "base_uri": "https://localhost:8080/",
          "height": 50
        },
        "outputId": "1e94aacf-b2e3-45fa-a25d-bc5a28d0d237"
      },
      "source": [
        "from tqdm import tqdm\n",
        "\n",
        "train_images=[]\n",
        "for i in tqdm (os.listdir(Train)):\n",
        "    path = os.path.join(Train,i)\n",
        "    img = cv2.imread(path)\n",
        "    img = cv2.cvtColor(img, cv2.COLOR_BGR2RGB)\n",
        "    img = cv2.resize(img,(100,100))\n",
        "    train_images.append(img)\n",
        "\n",
        "\n",
        "test_images=[]\n",
        "for i in tqdm (os.listdir(Test)):\n",
        "    path = os.path.join(Test,i)\n",
        "    img = cv2.imread(path)\n",
        "    img = cv2.cvtColor(img, cv2.COLOR_BGR2RGB)\n",
        "    img = cv2.resize(img,(100,100))\n",
        "    test_images.append(img)\n"
      ],
      "execution_count": null,
      "outputs": [
        {
          "output_type": "stream",
          "text": [
            "100%|██████████| 9520/9520 [00:45<00:00, 208.25it/s]\n",
            "100%|██████████| 1690/1690 [00:05<00:00, 318.97it/s]\n"
          ],
          "name": "stderr"
        }
      ]
    },
    {
      "cell_type": "code",
      "metadata": {
        "id": "iC_H11qjIPa4"
      },
      "source": [
        "\n",
        "train_images = np.array(train_images).reshape(-1, 100, 100, 3)\n",
        "train_images = train_images.astype('float32') / 255\n",
        "\n",
        "test_images = np.array(test_images).reshape(-1, 100, 100, 3)\n",
        "test_images = test_images.astype('float32') / 255\n",
        "\n",
        "train_labels = to_categorical(train_labels)\n",
        "test_labels = to_categorical(test_labels)"
      ],
      "execution_count": null,
      "outputs": []
    },
    {
      "cell_type": "code",
      "metadata": {
        "id": "Mf-j8q8SbGxi",
        "colab": {
          "base_uri": "https://localhost:8080/",
          "height": 84
        },
        "outputId": "2cfa8bf9-9417-47f2-fbda-4b7289666099"
      },
      "source": [
        "print(train_images.shape)\n",
        "print(train_labels.shape)\n",
        "print(test_images.shape)\n",
        "print(test_labels.shape)"
      ],
      "execution_count": null,
      "outputs": [
        {
          "output_type": "stream",
          "text": [
            "(9520, 100, 100, 3)\n",
            "(9520, 25)\n",
            "(1690, 100, 100, 3)\n",
            "(1690, 25)\n"
          ],
          "name": "stdout"
        }
      ]
    },
    {
      "cell_type": "markdown",
      "metadata": {
        "id": "OBFbl1c1JNwD"
      },
      "source": [
        "**CNN MODEL DEVELOPMENT**"
      ]
    },
    {
      "cell_type": "code",
      "metadata": {
        "id": "9en3x3OxLoa7",
        "colab": {
          "base_uri": "https://localhost:8080/",
          "height": 487
        },
        "outputId": "a242fbcc-991b-46af-afd1-afe5129395c9"
      },
      "source": [
        "# Building convolutional network\n",
        "\n",
        "model = tf.keras.models.Sequential()\n",
        "\n",
        "# 1st CONV LAYER\n",
        "model.add(tf.keras.layers.Conv2D(16,(5,5),activation='relu',input_shape=(100,100,3)))\n",
        "model.add(tf.keras.layers.MaxPooling2D((2, 2)))\n",
        "\n",
        "#2nd CONV LAYER\n",
        "model.add(tf.keras.layers.Conv2D(32,(5,5),activation='relu'))\n",
        "model.add(tf.keras.layers.MaxPooling2D((2, 2)))\n",
        "\n",
        "#3rd CONV LAYER\n",
        "model.add(tf.keras.layers.Conv2D(64, (5, 5), activation='relu'))\n",
        "model.add(tf.keras.layers.MaxPooling2D((2, 2)))\n",
        "\n",
        "model.add(tf.keras.layers.Flatten())\n",
        "model.add(tf.keras.layers.Dense(512,activation='relu')) \n",
        "model.add(tf.keras.layers.Dense(128,activation='relu')) \n",
        "model.add(tf.keras.layers.Dense(25, activation='softmax'))\n",
        "\n",
        "model.summary()"
      ],
      "execution_count": null,
      "outputs": [
        {
          "output_type": "stream",
          "text": [
            "Model: \"sequential\"\n",
            "_________________________________________________________________\n",
            "Layer (type)                 Output Shape              Param #   \n",
            "=================================================================\n",
            "conv2d_5 (Conv2D)            (None, 96, 96, 16)        1216      \n",
            "_________________________________________________________________\n",
            "max_pooling2d_1 (MaxPooling2 (None, 48, 48, 16)        0         \n",
            "_________________________________________________________________\n",
            "conv2d_6 (Conv2D)            (None, 44, 44, 32)        12832     \n",
            "_________________________________________________________________\n",
            "max_pooling2d_2 (MaxPooling2 (None, 22, 22, 32)        0         \n",
            "_________________________________________________________________\n",
            "conv2d_7 (Conv2D)            (None, 18, 18, 64)        51264     \n",
            "_________________________________________________________________\n",
            "max_pooling2d_3 (MaxPooling2 (None, 9, 9, 64)          0         \n",
            "_________________________________________________________________\n",
            "flatten_1 (Flatten)          (None, 5184)              0         \n",
            "_________________________________________________________________\n",
            "dense_1 (Dense)              (None, 512)               2654720   \n",
            "_________________________________________________________________\n",
            "dense_2 (Dense)              (None, 128)               65664     \n",
            "_________________________________________________________________\n",
            "dense_3 (Dense)              (None, 25)                3225      \n",
            "=================================================================\n",
            "Total params: 2,788,921\n",
            "Trainable params: 2,788,921\n",
            "Non-trainable params: 0\n",
            "_________________________________________________________________\n"
          ],
          "name": "stdout"
        }
      ]
    },
    {
      "cell_type": "code",
      "metadata": {
        "id": "i2iglP_4Edb-",
        "colab": {
          "base_uri": "https://localhost:8080/",
          "height": 538
        },
        "outputId": "a1a2b4f7-0130-4a7c-9fab-4d786890ae0d"
      },
      "source": [
        "model.compile(loss='categorical_crossentropy', optimizer='adam',metrics=['accuracy'])\n",
        "model.fit(train_images,train_labels,batch_size = 100, epochs=15)"
      ],
      "execution_count": null,
      "outputs": [
        {
          "output_type": "stream",
          "text": [
            "Epoch 1/15\n",
            "96/96 [==============================] - 119s 1s/step - loss: 1.4866 - accuracy: 0.5561\n",
            "Epoch 2/15\n",
            "96/96 [==============================] - 116s 1s/step - loss: 0.7299 - accuracy: 0.7675\n",
            "Epoch 3/15\n",
            "96/96 [==============================] - 113s 1s/step - loss: 0.6334 - accuracy: 0.7923\n",
            "Epoch 4/15\n",
            "96/96 [==============================] - 112s 1s/step - loss: 0.5599 - accuracy: 0.8138\n",
            "Epoch 5/15\n",
            "96/96 [==============================] - 110s 1s/step - loss: 0.5027 - accuracy: 0.8339\n",
            "Epoch 6/15\n",
            "96/96 [==============================] - 109s 1s/step - loss: 0.4758 - accuracy: 0.8429\n",
            "Epoch 7/15\n",
            "96/96 [==============================] - 108s 1s/step - loss: 0.4116 - accuracy: 0.8637\n",
            "Epoch 8/15\n",
            "96/96 [==============================] - 107s 1s/step - loss: 0.3484 - accuracy: 0.8837\n",
            "Epoch 9/15\n",
            "96/96 [==============================] - 108s 1s/step - loss: 0.3103 - accuracy: 0.8973\n",
            "Epoch 10/15\n",
            "96/96 [==============================] - 112s 1s/step - loss: 0.2319 - accuracy: 0.9275\n",
            "Epoch 11/15\n",
            "96/96 [==============================] - 116s 1s/step - loss: 0.1919 - accuracy: 0.9341\n",
            "Epoch 12/15\n",
            "96/96 [==============================] - 113s 1s/step - loss: 0.2151 - accuracy: 0.9294\n",
            "Epoch 13/15\n",
            "96/96 [==============================] - 113s 1s/step - loss: 0.1382 - accuracy: 0.9546\n",
            "Epoch 14/15\n",
            "96/96 [==============================] - 117s 1s/step - loss: 0.0840 - accuracy: 0.9735\n",
            "Epoch 15/15\n",
            "96/96 [==============================] - 114s 1s/step - loss: 0.0777 - accuracy: 0.9738\n"
          ],
          "name": "stdout"
        },
        {
          "output_type": "execute_result",
          "data": {
            "text/plain": [
              "<tensorflow.python.keras.callbacks.History at 0x7fab0e27bf98>"
            ]
          },
          "metadata": {
            "tags": []
          },
          "execution_count": 19
        }
      ]
    },
    {
      "cell_type": "code",
      "metadata": {
        "id": "Fl3rMi-PmbO6"
      },
      "source": [
        "# VALIDATION"
      ],
      "execution_count": null,
      "outputs": []
    },
    {
      "cell_type": "code",
      "metadata": {
        "id": "NoG3FquCTdg3",
        "colab": {
          "base_uri": "https://localhost:8080/",
          "height": 50
        },
        "outputId": "da761552-bc6e-458e-973c-213e4ecd01e7"
      },
      "source": [
        "test_loss, test_acc = model.evaluate(test_images, test_labels)\n",
        "print('Test accuracy:', test_acc)"
      ],
      "execution_count": null,
      "outputs": [
        {
          "output_type": "stream",
          "text": [
            "53/53 [==============================] - 6s 121ms/step - loss: 0.0576 - accuracy: 0.9781\n",
            "Test accuracy: 0.9781064987182617\n"
          ],
          "name": "stdout"
        }
      ]
    },
    {
      "cell_type": "code",
      "metadata": {
        "id": "Lk6vcaUomWG9"
      },
      "source": [
        "# TESTING"
      ],
      "execution_count": null,
      "outputs": []
    },
    {
      "cell_type": "code",
      "metadata": {
        "id": "mQXt1fb_enKO",
        "colab": {
          "base_uri": "https://localhost:8080/",
          "height": 268
        },
        "outputId": "aa6f219d-5c18-48e3-d0a1-61ddfaa1de96"
      },
      "source": [
        "loc = '/gdrive/My Drive/SIH_2020/SIH DATASETS/tomato1.jpg'\n",
        "img = cv2.imread(loc)\n",
        "img = cv2.resize(img,(100,100))\n",
        "img = cv2.cvtColor(img, cv2.COLOR_BGR2RGB)\n",
        "\n",
        "plt.imshow(img)\n",
        "plt.show()"
      ],
      "execution_count": null,
      "outputs": [
        {
          "output_type": "display_data",
          "data": {
            "image/png": "[encoded data removed]",
            "text/plain": [
              "<Figure size 432x288 with 1 Axes>"
            ]
          },
          "metadata": {
            "tags": [],
            "needs_background": "light"
          }
        }
      ]
    },
    {
      "cell_type": "code",
      "metadata": {
        "id": "jbC79ajUBlBq",
        "colab": {
          "base_uri": "https://localhost:8080/",
          "height": 330
        },
        "outputId": "4f81f142-51f0-41d5-e8ed-20092ed525ee"
      },
      "source": [
        "from PIL import Image,ImageFilter  \n",
        "#Read image\n",
        "im = Image.open('/gdrive/My Drive/SIH_2020/SIH DATASETS/tomato1.jpg')\n",
        "#Display image  \n",
        "im.show()\n",
        "   \n",
        "from PIL import ImageEnhance  \n",
        "enh = ImageEnhance.Contrast(img)  \n",
        "enh.enhance(1.8).show(\"30% more contrast\")\n"
      ],
      "execution_count": null,
      "outputs": [
        {
          "output_type": "error",
          "ename": "AttributeError",
          "evalue": "ignored",
          "traceback": [
            "\u001b[0;31m---------------------------------------------------------------------------\u001b[0m",
            "\u001b[0;31mAttributeError\u001b[0m                            Traceback (most recent call last)",
            "\u001b[0;32m<ipython-input-94-d17a9e78ca43>\u001b[0m in \u001b[0;36m<module>\u001b[0;34m()\u001b[0m\n\u001b[1;32m      6\u001b[0m \u001b[0;34m\u001b[0m\u001b[0m\n\u001b[1;32m      7\u001b[0m \u001b[0;32mfrom\u001b[0m \u001b[0mPIL\u001b[0m \u001b[0;32mimport\u001b[0m \u001b[0mImageEnhance\u001b[0m\u001b[0;34m\u001b[0m\u001b[0;34m\u001b[0m\u001b[0m\n\u001b[0;32m----> 8\u001b[0;31m \u001b[0menh\u001b[0m \u001b[0;34m=\u001b[0m \u001b[0mImageEnhance\u001b[0m\u001b[0;34m.\u001b[0m\u001b[0mContrast\u001b[0m\u001b[0;34m(\u001b[0m\u001b[0mimg\u001b[0m\u001b[0;34m)\u001b[0m\u001b[0;34m\u001b[0m\u001b[0;34m\u001b[0m\u001b[0m\n\u001b[0m\u001b[1;32m      9\u001b[0m \u001b[0menh\u001b[0m\u001b[0;34m.\u001b[0m\u001b[0menhance\u001b[0m\u001b[0;34m(\u001b[0m\u001b[0;36m1.8\u001b[0m\u001b[0;34m)\u001b[0m\u001b[0;34m.\u001b[0m\u001b[0mshow\u001b[0m\u001b[0;34m(\u001b[0m\u001b[0;34m\"30% more contrast\"\u001b[0m\u001b[0;34m)\u001b[0m\u001b[0;34m\u001b[0m\u001b[0;34m\u001b[0m\u001b[0m\n",
            "\u001b[0;32m/usr/local/lib/python3.6/dist-packages/PIL/ImageEnhance.py\u001b[0m in \u001b[0;36m__init__\u001b[0;34m(self, image)\u001b[0m\n\u001b[1;32m     65\u001b[0m     \u001b[0;32mdef\u001b[0m \u001b[0m__init__\u001b[0m\u001b[0;34m(\u001b[0m\u001b[0mself\u001b[0m\u001b[0;34m,\u001b[0m \u001b[0mimage\u001b[0m\u001b[0;34m)\u001b[0m\u001b[0;34m:\u001b[0m\u001b[0;34m\u001b[0m\u001b[0;34m\u001b[0m\u001b[0m\n\u001b[1;32m     66\u001b[0m         \u001b[0mself\u001b[0m\u001b[0;34m.\u001b[0m\u001b[0mimage\u001b[0m \u001b[0;34m=\u001b[0m \u001b[0mimage\u001b[0m\u001b[0;34m\u001b[0m\u001b[0;34m\u001b[0m\u001b[0m\n\u001b[0;32m---> 67\u001b[0;31m         \u001b[0mmean\u001b[0m \u001b[0;34m=\u001b[0m \u001b[0mint\u001b[0m\u001b[0;34m(\u001b[0m\u001b[0mImageStat\u001b[0m\u001b[0;34m.\u001b[0m\u001b[0mStat\u001b[0m\u001b[0;34m(\u001b[0m\u001b[0mimage\u001b[0m\u001b[0;34m.\u001b[0m\u001b[0mconvert\u001b[0m\u001b[0;34m(\u001b[0m\u001b[0;34m\"L\"\u001b[0m\u001b[0;34m)\u001b[0m\u001b[0;34m)\u001b[0m\u001b[0;34m.\u001b[0m\u001b[0mmean\u001b[0m\u001b[0;34m[\u001b[0m\u001b[0;36m0\u001b[0m\u001b[0;34m]\u001b[0m \u001b[0;34m+\u001b[0m \u001b[0;36m0.5\u001b[0m\u001b[0;34m)\u001b[0m\u001b[0;34m\u001b[0m\u001b[0;34m\u001b[0m\u001b[0m\n\u001b[0m\u001b[1;32m     68\u001b[0m         \u001b[0mself\u001b[0m\u001b[0;34m.\u001b[0m\u001b[0mdegenerate\u001b[0m \u001b[0;34m=\u001b[0m \u001b[0mImage\u001b[0m\u001b[0;34m.\u001b[0m\u001b[0mnew\u001b[0m\u001b[0;34m(\u001b[0m\u001b[0;34m\"L\"\u001b[0m\u001b[0;34m,\u001b[0m \u001b[0mimage\u001b[0m\u001b[0;34m.\u001b[0m\u001b[0msize\u001b[0m\u001b[0;34m,\u001b[0m \u001b[0mmean\u001b[0m\u001b[0;34m)\u001b[0m\u001b[0;34m.\u001b[0m\u001b[0mconvert\u001b[0m\u001b[0;34m(\u001b[0m\u001b[0mimage\u001b[0m\u001b[0;34m.\u001b[0m\u001b[0mmode\u001b[0m\u001b[0;34m)\u001b[0m\u001b[0;34m\u001b[0m\u001b[0;34m\u001b[0m\u001b[0m\n\u001b[1;32m     69\u001b[0m \u001b[0;34m\u001b[0m\u001b[0m\n",
            "\u001b[0;31mAttributeError\u001b[0m: 'numpy.ndarray' object has no attribute 'convert'"
          ]
        }
      ]
    },
    {
      "cell_type": "code",
      "metadata": {
        "id": "pgbqKFx5Bil4"
      },
      "source": [
        "img = np.array(img).reshape(1, 100, 100, 3)\n",
        "predict = model.predict(img)"
      ],
      "execution_count": null,
      "outputs": []
    },
    {
      "cell_type": "code",
      "metadata": {
        "id": "KmGNrlnv3KqY",
        "colab": {
          "base_uri": "https://localhost:8080/",
          "height": 34
        },
        "outputId": "cee993c3-1586-45f4-fb9b-d9793aa0b470"
      },
      "source": [
        "if np.argmax(predict) == 0:\n",
        "  print('Apple')\n",
        "elif np.argmax(predict) == 1:\n",
        "  print('Banana')\n",
        "elif np.argmax(predict) == 2:\n",
        "  print('Beetroot')   \n",
        "if np.argmax(predict) == 3:\n",
        "  print('Cauliflower')\n",
        "elif np.argmax(predict) == 4:\n",
        "  print('Coconut')\n",
        "elif np.argmax(predict) == 5:\n",
        "  print('Coffee')   \n",
        "if np.argmax(predict) == 6:\n",
        "  print('Cotton')\n",
        "elif np.argmax(predict) == 7:\n",
        "  print('Cucumber')\n",
        "elif np.argmax(predict) == 8:\n",
        "  print('Guava')   \n",
        "if np.argmax(predict) == 9:\n",
        "  print('Jute')\n",
        "elif np.argmax(predict) == 10:\n",
        "  print('Lemon')\n",
        "elif np.argmax(predict) == 11:\n",
        "  print('Maize')   \n",
        "if np.argmax(predict) == 12:\n",
        "  print('Millet')\n",
        "elif np.argmax(predict) == 13:\n",
        "  print('Onion')\n",
        "elif np.argmax(predict) == 14:\n",
        "  print('Orange')   \n",
        "if np.argmax(predict) == 15:\n",
        "  print('Paddy')\n",
        "elif np.argmax(predict) == 16:\n",
        "  print('Peas')\n",
        "elif np.argmax(predict) == 17:\n",
        "  print('Pineapple')   \n",
        "if np.argmax(predict) == 18:\n",
        "  print('Potato')\n",
        "elif np.argmax(predict) == 19:\n",
        "  print('Red chilli')\n",
        "elif np.argmax(predict) == 20:\n",
        "  print('Sugarcane')   \n",
        "if np.argmax(predict) == 21:\n",
        "  print('Sunflower')\n",
        "elif np.argmax(predict) == 22:\n",
        "  print('Tomato')\n",
        "elif np.argmax(predict) == 23:\n",
        "  print('Watermelon')  \n",
        "elif np.argmax(predict) == 24:\n",
        "  print('Wheat')    "
      ],
      "execution_count": null,
      "outputs": [
        {
          "output_type": "stream",
          "text": [
            "Cotton\n"
          ],
          "name": "stdout"
        }
      ]
    },
    {
      "cell_type": "markdown",
      "metadata": {
        "id": "3-oeq7tqBhYW"
      },
      "source": [
        "**EXPORTING FILES**"
      ]
    },
    {
      "cell_type": "code",
      "metadata": {
        "id": "7Nk8gCsEmiwf"
      },
      "source": [
        "# .h5 file \n",
        "\n",
        "import time\n",
        "saved_model_path = \"./{}.h5\".format(int(time.time()))\n",
        "model.save(saved_model_path)\n",
        "\n",
        "# json file \n",
        "\n",
        "!tensorflowjs_converter --input_format=keras {saved_model_path} ./"
      ],
      "execution_count": null,
      "outputs": []
    },
    {
      "cell_type": "code",
      "metadata": {
        "id": "0K75bkfkodu7",
        "colab": {
          "base_uri": "https://localhost:8080/",
          "height": 171
        },
        "outputId": "0737b1c7-a017-4827-e3f0-657f6b415e23"
      },
      "source": [
        "# Saved model file\n",
        "\n",
        "export_dir = 'saved_model/1'\n",
        "tf.saved_model.save(model, export_dir)\n",
        "\n",
        "# tflite file\n",
        "\n",
        "converter = tf.lite.TFLiteConverter.from_saved_model(export_dir)\n",
        "tflite_model = converter.convert()\n",
        "\n",
        "tflite_model_file = pathlib.Path('model.tflite')\n",
        "tflite_model_file.write_bytes(tflite_model)"
      ],
      "execution_count": null,
      "outputs": [
        {
          "output_type": "stream",
          "text": [
            "WARNING:tensorflow:From /usr/local/lib/python3.6/dist-packages/tensorflow/python/training/tracking/tracking.py:111: Model.state_updates (from tensorflow.python.keras.engine.training) is deprecated and will be removed in a future version.\n",
            "Instructions for updating:\n",
            "This property should not be used in TensorFlow 2.0, as updates are applied automatically.\n",
            "WARNING:tensorflow:From /usr/local/lib/python3.6/dist-packages/tensorflow/python/training/tracking/tracking.py:111: Layer.updates (from tensorflow.python.keras.engine.base_layer) is deprecated and will be removed in a future version.\n",
            "Instructions for updating:\n",
            "This property should not be used in TensorFlow 2.0, as updates are applied automatically.\n",
            "INFO:tensorflow:Assets written to: saved_model/1/assets\n"
          ],
          "name": "stdout"
        },
        {
          "output_type": "execute_result",
          "data": {
            "text/plain": [
              "11160628"
            ]
          },
          "metadata": {
            "tags": []
          },
          "execution_count": 22
        }
      ]
    },
    {
      "cell_type": "code",
      "metadata": {
        "id": "85BhAdz2quvo"
      },
      "source": [
        "# label.txt file\n",
        "\n",
        "labels = ['apple', 'banana', 'beetroot', 'cauliflower', 'coconut', 'coffee', 'cotton', 'cucumber', 'guava', 'jute', 'lemon', 'maize', 'millet', 'onion', 'orange', 'paddy', 'peas', 'pineapple', 'potato', 'red', 'sugarcane', 'sunflower', 'tomato', 'watermelon', 'wheat']\n",
        "\n",
        "with open('labels.txt', 'w') as f:\n",
        "    f.write('\\n'.join(labels))"
      ],
      "execution_count": null,
      "outputs": []
    },
    {
      "cell_type": "code",
      "metadata": {
        "id": "Z0tbpq_Kk2Q2",
        "colab": {
          "base_uri": "https://localhost:8080/",
          "height": 34
        },
        "outputId": "c6a6ce69-e766-480d-aed4-27eae23800de"
      },
      "source": [
        "# DOWNLOAD tflite FILE\n",
        "\n",
        "try:\n",
        "    from google.colab import files\n",
        "    files.download(tflite_model_file)\n",
        "except:\n",
        "    pass"
      ],
      "execution_count": null,
      "outputs": [
        {
          "output_type": "display_data",
          "data": {
            "application/javascript": [
              "\n",
              "    async function download(id, filename, size) {\n",
              "      if (!google.colab.kernel.accessAllowed) {\n",
              "        return;\n",
              "      }\n",
              "      const div = document.createElement('div');\n",
              "      const label = document.createElement('label');\n",
              "      label.textContent = `Downloading \"${filename}\": `;\n",
              "      div.appendChild(label);\n",
              "      const progress = document.createElement('progress');\n",
              "      progress.max = size;\n",
              "      div.appendChild(progress);\n",
              "      document.body.appendChild(div);\n",
              "\n",
              "      const buffers = [];\n",
              "      let downloaded = 0;\n",
              "\n",
              "      const channel = await google.colab.kernel.comms.open(id);\n",
              "      // Send a message to notify the kernel that we're ready.\n",
              "      channel.send({})\n",
              "\n",
              "      for await (const message of channel.messages) {\n",
              "        // Send a message to notify the kernel that we're ready.\n",
              "        channel.send({})\n",
              "        if (message.buffers) {\n",
              "          for (const buffer of message.buffers) {\n",
              "            buffers.push(buffer);\n",
              "            downloaded += buffer.byteLength;\n",
              "            progress.value = downloaded;\n",
              "          }\n",
              "        }\n",
              "      }\n",
              "      const blob = new Blob(buffers, {type: 'application/binary'});\n",
              "      const a = document.createElement('a');\n",
              "      a.href = window.URL.createObjectURL(blob);\n",
              "      a.download = filename;\n",
              "      div.appendChild(a);\n",
              "      a.click();\n",
              "      div.remove();\n",
              "    }\n",
              "  "
            ],
            "text/plain": [
              "<IPython.core.display.Javascript object>"
            ]
          },
          "metadata": {
            "tags": []
          }
        },
        {
          "output_type": "display_data",
          "data": {
            "application/javascript": [
              "download(\"download_f72df7b5-a80a-42f1-aa59-a18d3d540ae3\", \"model.tflite\", 11152604)"
            ],
            "text/plain": [
              "<IPython.core.display.Javascript object>"
            ]
          },
          "metadata": {
            "tags": []
          }
        }
      ]
    },
    {
      "cell_type": "code",
      "metadata": {
        "id": "EdTt04s3EJsu"
      },
      "source": [
        ""
      ],
      "execution_count": null,
      "outputs": []
    },
    {
      "cell_type": "code",
      "metadata": {
        "id": "mlU6UGFRmzv0"
      },
      "source": [
        "# Building convolutional network ..... # USING INCEPTION MODULE\n",
        "\n",
        "input = tf.keras.Input(shape=(100,100,3))\n",
        "\n",
        "\n",
        "model_1 = tf.keras.layers.Conv2D(64,(1,1),padding='same',activation='relu')(input)\n",
        "model_1 = tf.keras.layers.Conv2D(64,(3,3),padding='same',activation='relu')(model_1)\n",
        "\n",
        "model_2 = tf.keras.layers.Conv2D(64,(1,1),padding='same',activation='relu')(input)\n",
        "model_2 = tf.keras.layers.Conv2D(64,(5,5),padding='same',activation='relu')(model_2)\n",
        "\n",
        "model_3 = tf.keras.layers.MaxPooling2D((3,3),strides=(1,1),padding='same')(input)\n",
        "model_3 = tf.keras.layers.Conv2D(64,(1,1),padding='same',activation='relu')(model_3)\n",
        "\n",
        "output = tf.keras.layers.concatenate([model_1, model_2, model_3], axis = 3)\n",
        "\n",
        "output = tf.keras.layers.Flatten()(output)\n",
        "output = tf.keras.layers.Dense(25,activation='softmax')(output)\n",
        "\n",
        "model = tf.keras.models.Model(inputs = input, outputs = output)"
      ],
      "execution_count": null,
      "outputs": []
    },
    {
      "cell_type": "code",
      "metadata": {
        "id": "2Ae2xF9vmz1l"
      },
      "source": [
        "model.compile(loss='categorical_crossentropy', optimizer='adam',metrics=['accuracy'])\n",
        "model.fit(train_images,train_labels,batch_size = 100, epochs=10)"
      ],
      "execution_count": null,
      "outputs": []
    }
  ]
}